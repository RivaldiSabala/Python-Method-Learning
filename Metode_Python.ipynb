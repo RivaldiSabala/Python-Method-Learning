{
  "nbformat": 4,
  "nbformat_minor": 0,
  "metadata": {
    "colab": {
      "provenance": []
    },
    "kernelspec": {
      "name": "python3",
      "display_name": "Python 3"
    },
    "language_info": {
      "name": "python"
    }
  },
  "cells": [
    {
      "cell_type": "markdown",
      "source": [
        "Python string methods"
      ],
      "metadata": {
        "id": "4OiXy2Cdl82y"
      }
    },
    {
      "cell_type": "code",
      "source": [
        "print(\"harry\" .capitalize()) #mengubah huruf pertama pada string menjadi huruf kapital."
      ],
      "metadata": {
        "colab": {
          "base_uri": "https://localhost:8080/"
        },
        "id": "c-M3c403llIZ",
        "outputId": "0411c2ca-9e4c-4241-f01d-ee6536105411"
      },
      "execution_count": 94,
      "outputs": [
        {
          "output_type": "stream",
          "name": "stdout",
          "text": [
            "Harry\n"
          ]
        }
      ]
    },
    {
      "cell_type": "code",
      "source": [
        "print(\"Hello Harry\" .casefold()) #mengubah semua huruf dalam string menjadi huruf kecil, tanpa memperdulikan huruf besar atau kecil."
      ],
      "metadata": {
        "colab": {
          "base_uri": "https://localhost:8080/"
        },
        "id": "3cuaj9tZmE5R",
        "outputId": "410da63b-5e6d-4b0c-b5a9-f4096633510c"
      },
      "execution_count": 95,
      "outputs": [
        {
          "output_type": "stream",
          "name": "stdout",
          "text": [
            "hello harry\n"
          ]
        }
      ]
    },
    {
      "cell_type": "code",
      "source": [
        "print(\"hello World\" .center(50)) #memusatkan string dalam bidang teks dengan lebar yang ditentukan."
      ],
      "metadata": {
        "colab": {
          "base_uri": "https://localhost:8080/"
        },
        "id": "51pgZaZkmVNR",
        "outputId": "61497c62-72a0-4d65-8ba6-42a42726b2d5"
      },
      "execution_count": 96,
      "outputs": [
        {
          "output_type": "stream",
          "name": "stdout",
          "text": [
            "                   hello World                    \n"
          ]
        }
      ]
    },
    {
      "cell_type": "code",
      "source": [
        "print(\"hello World\" .count('1')) #menghitung jumlah kemunculan substring atau karakter dalam string."
      ],
      "metadata": {
        "colab": {
          "base_uri": "https://localhost:8080/"
        },
        "id": "ZUge7PwqmxBY",
        "outputId": "ce68a9b0-3a63-426d-ecc3-bca1011755bb"
      },
      "execution_count": 97,
      "outputs": [
        {
          "output_type": "stream",
          "name": "stdout",
          "text": [
            "0\n"
          ]
        }
      ]
    },
    {
      "cell_type": "code",
      "source": [
        "#mengkodekan string menjadi array byte.\n",
        "#Secara default, dalam Python 3, ia menggunakan skema pengkodean yang didasarkan pada lokal sistem Anda yang biasanya UTF-8.\n",
        "#UTF-8 adalah skema pengkodean populer yang dapat mewakili berbagai karakter dari berbagai bahasa.\n",
        "print(\"hello World\" .encode())"
      ],
      "metadata": {
        "colab": {
          "base_uri": "https://localhost:8080/"
        },
        "id": "5lS0LTCtnDRG",
        "outputId": "d965f001-df8a-4868-e4ef-cd0a524f3405"
      },
      "execution_count": 98,
      "outputs": [
        {
          "output_type": "stream",
          "name": "stdout",
          "text": [
            "b'hello World'\n"
          ]
        }
      ]
    },
    {
      "cell_type": "code",
      "source": [
        "print(\"hello World\" .endswith('.')) #mengecek apakah sebuah string diakhiri dengan karakter atau substring tertentu."
      ],
      "metadata": {
        "colab": {
          "base_uri": "https://localhost:8080/"
        },
        "id": "LQX6RmwFnROk",
        "outputId": "082bb1fe-9f00-4b7e-eb43-3109179f4b77"
      },
      "execution_count": 99,
      "outputs": [
        {
          "output_type": "stream",
          "name": "stdout",
          "text": [
            "False\n"
          ]
        }
      ]
    },
    {
      "cell_type": "code",
      "source": [
        "#memperluas karakter tab dalam string menjadi spasi.\n",
        "#Argumen 2 menentukan lebar tab, yang berarti setiap karakter tab akan diganti dengan 2 spasi.\n",
        "print(\"H\\te\\tl\\tl\\to\" .expandtabs(2))"
      ],
      "metadata": {
        "colab": {
          "base_uri": "https://localhost:8080/"
        },
        "id": "VEdb5moWnkTn",
        "outputId": "5e57bff8-c563-4ceb-accd-7e06bf121abc"
      },
      "execution_count": 100,
      "outputs": [
        {
          "output_type": "stream",
          "name": "stdout",
          "text": [
            "H e l l o\n"
          ]
        }
      ]
    },
    {
      "cell_type": "code",
      "source": [
        "#find digunakan untuk mencari posisi (index) awal kemunculan pertama dari substring tertentu dalam string.\n",
        "#Subsrting yang dicari dalam kasus ini adalah \"Wor\"\n",
        "print(\"hello World\" .find('Wor'))"
      ],
      "metadata": {
        "colab": {
          "base_uri": "https://localhost:8080/"
        },
        "id": "htwve6l7oQnM",
        "outputId": "fbd00bd0-e6d6-4e15-edf1-83eaaf507ec1"
      },
      "execution_count": 101,
      "outputs": [
        {
          "output_type": "stream",
          "name": "stdout",
          "text": [
            "6\n"
          ]
        }
      ]
    },
    {
      "cell_type": "code",
      "source": [
        "#dalam Python memformat nilai variabel price (yang disetel ke 49) menjadi string dengan dua tempat desimal dan menambahkan tanda dolar ($).\n",
        "print(\"{price:.2f}$\" .format(price=49))"
      ],
      "metadata": {
        "colab": {
          "base_uri": "https://localhost:8080/"
        },
        "id": "OpXszCTgofwQ",
        "outputId": "ccb83684-14e7-41b6-a875-26633c531eb6"
      },
      "execution_count": 102,
      "outputs": [
        {
          "output_type": "stream",
          "name": "stdout",
          "text": [
            "49.00$\n"
          ]
        }
      ]
    },
    {
      "cell_type": "code",
      "source": [
        "#untuk mencari posisi (index) awal kemunculan pertama dari substring tertentu dalam string.\n",
        "print(\"hello World\" .index('Wor'))"
      ],
      "metadata": {
        "colab": {
          "base_uri": "https://localhost:8080/"
        },
        "id": "tGfSPFMVpSO2",
        "outputId": "f051bff5-daea-41f8-fae6-7dc2253d075c"
      },
      "execution_count": 103,
      "outputs": [
        {
          "output_type": "stream",
          "name": "stdout",
          "text": [
            "6\n"
          ]
        }
      ]
    },
    {
      "cell_type": "code",
      "source": [
        "print(\"hello World\" .split()) #membagi string menjadi daftar string berdasarkan pemisah yang ditentukan."
      ],
      "metadata": {
        "colab": {
          "base_uri": "https://localhost:8080/"
        },
        "id": "kuExqJ-Jpap1",
        "outputId": "aa9518ce-7849-4c9f-db77-dd8387cdbc87"
      },
      "execution_count": 104,
      "outputs": [
        {
          "output_type": "stream",
          "name": "stdout",
          "text": [
            "['hello', 'World']\n"
          ]
        }
      ]
    },
    {
      "cell_type": "code",
      "source": [
        "#mengganti kemunculan pertama (atau semua kemunculan tergantung pada argumen)  dari suatu substring  dalam string dengan substring lain.\n",
        "print(\"hi World\" .replace(\"World\", \"harry\"))"
      ],
      "metadata": {
        "colab": {
          "base_uri": "https://localhost:8080/"
        },
        "id": "_5gm00UCpqt8",
        "outputId": "77ccde6a-2932-47f9-a99c-2e3cac08f11e"
      },
      "execution_count": 105,
      "outputs": [
        {
          "output_type": "stream",
          "name": "stdout",
          "text": [
            "hi harry\n"
          ]
        }
      ]
    },
    {
      "cell_type": "code",
      "source": [
        "print(\"hello 20\" .isdigit()) #mengecek apakah semua karakter di dalam string tersebut merupakan angka digit (0 sampai 9)."
      ],
      "metadata": {
        "colab": {
          "base_uri": "https://localhost:8080/"
        },
        "id": "xC09S33Zp3V6",
        "outputId": "1a524dd2-7c83-4c4f-e4ac-33dcb137778e"
      },
      "execution_count": 106,
      "outputs": [
        {
          "output_type": "stream",
          "name": "stdout",
          "text": [
            "False\n"
          ]
        }
      ]
    },
    {
      "cell_type": "code",
      "source": [
        "print(\"Complex\" .isalpha()) #menentukan apakah semua karakter dalam string adalah huruf alfabet."
      ],
      "metadata": {
        "colab": {
          "base_uri": "https://localhost:8080/"
        },
        "id": "-xAzqxv5qFR1",
        "outputId": "1a340306-110d-4c72-e0b7-2091a1412694"
      },
      "execution_count": 107,
      "outputs": [
        {
          "output_type": "stream",
          "name": "stdout",
          "text": [
            "True\n"
          ]
        }
      ]
    },
    {
      "cell_type": "code",
      "source": [
        "print(\"50\" .zfill(5)) #menambahkan nol ke kiri string hingga panjang string mencapai nilai yang ditentukan. Dalam kasus ini, nilai yang ditentukan adalah 5."
      ],
      "metadata": {
        "colab": {
          "base_uri": "https://localhost:8080/"
        },
        "id": "YYCD-Q4TqOvZ",
        "outputId": "8afb8638-5bcd-41ac-b321-b0c339d2cb5f"
      },
      "execution_count": 108,
      "outputs": [
        {
          "output_type": "stream",
          "name": "stdout",
          "text": [
            "00050\n"
          ]
        }
      ]
    },
    {
      "cell_type": "code",
      "source": [
        "print(\"hello World\" .upper()) #mengubah semua huruf dalam string menjadi huruf besar."
      ],
      "metadata": {
        "colab": {
          "base_uri": "https://localhost:8080/"
        },
        "id": "xmU9tWYGqgPM",
        "outputId": "34b4f385-93af-48b1-a65a-5f2626995bfb"
      },
      "execution_count": 109,
      "outputs": [
        {
          "output_type": "stream",
          "name": "stdout",
          "text": [
            "HELLO WORLD\n"
          ]
        }
      ]
    },
    {
      "cell_type": "code",
      "source": [
        "#menukar huruf besar dan kecil setiap karakter dalam string.\n",
        "#Huruf besar menjadi kecil, dan huruf kecil menjadi besar.\n",
        "#Karakter lain seperti angka, simbol, dan spasi tidak diubah.\n",
        "print(\"I'm harry\" .swapcase())"
      ],
      "metadata": {
        "colab": {
          "base_uri": "https://localhost:8080/"
        },
        "id": "6kHtmpJUql7n",
        "outputId": "9c4c27e5-076f-4c11-efce-a23f3be6b699"
      },
      "execution_count": 110,
      "outputs": [
        {
          "output_type": "stream",
          "name": "stdout",
          "text": [
            "i'M HARRY\n"
          ]
        }
      ]
    },
    {
      "cell_type": "code",
      "source": [
        "print(\"Company12\" .isalnum()) #memeriksa apakah string \"Company12\" hanya terdiri dari karakter alfanumerik (huruf dan angka)"
      ],
      "metadata": {
        "colab": {
          "base_uri": "https://localhost:8080/"
        },
        "id": "-1hn_Aswqwml",
        "outputId": "917a2de9-92cf-4dad-80c7-ed4b03ebc239"
      },
      "execution_count": 111,
      "outputs": [
        {
          "output_type": "stream",
          "name": "stdout",
          "text": [
            "True\n"
          ]
        }
      ]
    },
    {
      "cell_type": "code",
      "source": [
        "#memeriksa apakah semua karakter dalam string termasuk dalam kumpulan karakter ASCII.\n",
        "#Kumpulan karakter ASCII adalah pengkodean standar untuk kode digital 7-bit yang mewakili huruf Inggris, angka, tanda baca, dan kode kontrol lainnya.\n",
        "print(\"Company12\" .isascii())"
      ],
      "metadata": {
        "colab": {
          "base_uri": "https://localhost:8080/"
        },
        "id": "wbq7S7heq4Nk",
        "outputId": "4b991626-fb9a-4be7-d489-ab00ea90b26e"
      },
      "execution_count": 112,
      "outputs": [
        {
          "output_type": "stream",
          "name": "stdout",
          "text": [
            "True\n"
          ]
        }
      ]
    },
    {
      "cell_type": "code",
      "source": [
        "print(\"Company12\" .isdecimal()) #memeriksa apakah semua karakter dalam string adalah digit desimal (0-9)."
      ],
      "metadata": {
        "colab": {
          "base_uri": "https://localhost:8080/"
        },
        "id": "gELkgDdeq85O",
        "outputId": "c7166a56-cc50-4a35-9159-3fbf40afbd80"
      },
      "execution_count": 113,
      "outputs": [
        {
          "output_type": "stream",
          "name": "stdout",
          "text": [
            "False\n"
          ]
        }
      ]
    },
    {
      "cell_type": "code",
      "source": [
        "#memeriksa apakah string adalah pengenal yang valid sesuai dengan aturan penamaan Python untuk variabel, fungsi, kelas, dan entitas lainnya.\n",
        "print(\"hello World\" .isidentifier())"
      ],
      "metadata": {
        "colab": {
          "base_uri": "https://localhost:8080/"
        },
        "id": "vsIsA2dLrBCJ",
        "outputId": "a439183a-42ee-42aa-9d16-5dcee4e8a9e6"
      },
      "execution_count": 114,
      "outputs": [
        {
          "output_type": "stream",
          "name": "stdout",
          "text": [
            "False\n"
          ]
        }
      ]
    },
    {
      "cell_type": "code",
      "source": [
        "print(\"hello World\" .islower()) #memeriksa apakah semua karakter dalam string adalah huruf kecil."
      ],
      "metadata": {
        "colab": {
          "base_uri": "https://localhost:8080/"
        },
        "id": "Wvq3xzW_rJa0",
        "outputId": "658aa06d-3906-452b-85a7-fe746fbff8c1"
      },
      "execution_count": 115,
      "outputs": [
        {
          "output_type": "stream",
          "name": "stdout",
          "text": [
            "False\n"
          ]
        }
      ]
    },
    {
      "cell_type": "code",
      "source": [
        "print(\"Hello!\\nAre you #1?\" .isprintable()) #memeriksa apakah semua karakter dalam string termasuk dalam rentang karakter yang dapat dicetak."
      ],
      "metadata": {
        "colab": {
          "base_uri": "https://localhost:8080/"
        },
        "id": "HQSD8_rzrO3E",
        "outputId": "25ce0944-6617-4268-d41b-1bc36e298f43"
      },
      "execution_count": 116,
      "outputs": [
        {
          "output_type": "stream",
          "name": "stdout",
          "text": [
            "False\n"
          ]
        }
      ]
    },
    {
      "cell_type": "code",
      "source": [
        "print(\"   \" .isspace()) #memeriksa apakah string yang berisi spasi tunggal (\"   \") hanya terdiri dari karakter spasi."
      ],
      "metadata": {
        "colab": {
          "base_uri": "https://localhost:8080/"
        },
        "id": "BjW4dm95rcn-",
        "outputId": "259754e3-8bc1-476c-a868-ef2f30abecdc"
      },
      "execution_count": 117,
      "outputs": [
        {
          "output_type": "stream",
          "name": "stdout",
          "text": [
            "True\n"
          ]
        }
      ]
    },
    {
      "cell_type": "code",
      "source": [
        "#membuat tabel terjemahan yang memetakan satu karakter ke karakter lain.\n",
        "#Tabel terjemahan ini kemudian dapat digunakan untuk mengganti karakter tertentu dalam string.\n",
        "print(\"Mango\" .maketrans(\"M\", \"T\"))"
      ],
      "metadata": {
        "colab": {
          "base_uri": "https://localhost:8080/"
        },
        "id": "ZCNNtK2VrksZ",
        "outputId": "545bffb9-06d8-4810-9af3-b066a02f2cce"
      },
      "execution_count": 118,
      "outputs": [
        {
          "output_type": "stream",
          "name": "stdout",
          "text": [
            "{77: 84}\n"
          ]
        }
      ]
    },
    {
      "cell_type": "code",
      "source": [
        "print(\"hello World\" .rjust(20)) #menyelaraskan kanan string dengan lebar total yang ditentukan.\n"
      ],
      "metadata": {
        "colab": {
          "base_uri": "https://localhost:8080/"
        },
        "id": "aPI3Lvkmru3G",
        "outputId": "ecc686ce-4986-42b9-d211-fcd5b4ba4cdc"
      },
      "execution_count": 119,
      "outputs": [
        {
          "output_type": "stream",
          "name": "stdout",
          "text": [
            "         hello World\n"
          ]
        }
      ]
    },
    {
      "cell_type": "code",
      "source": [
        "print(\"yes & No\" .rpartition(\"&\")) #memisahkan string \"yes & No\" menjadi tiga bagian berdasarkan pemisah \"&\" dari kanan ke kiri."
      ],
      "metadata": {
        "colab": {
          "base_uri": "https://localhost:8080/"
        },
        "id": "dag8XuJsr11Y",
        "outputId": "0c969f68-7df5-4f7a-a2c4-3dc0a5d81690"
      },
      "execution_count": 120,
      "outputs": [
        {
          "output_type": "stream",
          "name": "stdout",
          "text": [
            "('yes ', '&', ' No')\n"
          ]
        }
      ]
    },
    {
      "cell_type": "code",
      "source": [
        "print(\"Hello World\" .startswith(\"Hello\")) #memeriksa apakah string dimulai dengan substring yang ditentukan."
      ],
      "metadata": {
        "colab": {
          "base_uri": "https://localhost:8080/"
        },
        "id": "IwdCW9fTsB3s",
        "outputId": "a4eb8bb2-9146-4cb7-c588-ffb148ae614f"
      },
      "execution_count": 121,
      "outputs": [
        {
          "output_type": "stream",
          "name": "stdout",
          "text": [
            "True\n"
          ]
        }
      ]
    },
    {
      "cell_type": "code",
      "source": [
        "print(\"'hello' 'World'\" .rsplit(\",\")) #membagi string menjadi daftar berdasarkan pemisah yang ditentukan."
      ],
      "metadata": {
        "colab": {
          "base_uri": "https://localhost:8080/"
        },
        "id": "KmRrhGyxsJ5N",
        "outputId": "7de94bdf-af75-4541-fcf3-f34d7b52b475"
      },
      "execution_count": 122,
      "outputs": [
        {
          "output_type": "stream",
          "name": "stdout",
          "text": [
            "[\"'hello' 'World'\"]\n"
          ]
        }
      ]
    },
    {
      "cell_type": "code",
      "source": [
        "print(\"hello\\nWorld\" .splitlines()) #memecah string menjadi daftar baris individual berdasarkan kemunculan karakter newline (\\n)"
      ],
      "metadata": {
        "colab": {
          "base_uri": "https://localhost:8080/"
        },
        "id": "6wBxGCbpsVVf",
        "outputId": "fde7e181-ebe7-4e8c-cfec-cbd3aab1635b"
      },
      "execution_count": 123,
      "outputs": [
        {
          "output_type": "stream",
          "name": "stdout",
          "text": [
            "['hello', 'World']\n"
          ]
        }
      ]
    },
    {
      "cell_type": "code",
      "source": [
        "#Fungsi encode() secara default mengubah string dari Unicode (format yang digunakan untuk menyimpan text di komputer) ke format binary (urutan angka 0 dan 1) yang sesuai dengan encoding bawaan sistem (biasanya UTF-8).\n",
        "#Fungsi decode() membalikkan proses encode, mengubah data binary yang tersimpan di encoded_string kembali menjadi string Unicode.\n",
        "encoded_string = \"hello World\".encode() #melakukan encode pada string \"hello World\".\n",
        "decoded_string = encoded_string.decode() #melakukan decode pada encoded_string.\n",
        "print(decoded_string)"
      ],
      "metadata": {
        "colab": {
          "base_uri": "https://localhost:8080/"
        },
        "id": "F2xQh_AOxGeK",
        "outputId": "c4384c86-93c9-4808-a505-baff13ea08f0"
      },
      "execution_count": 124,
      "outputs": [
        {
          "output_type": "stream",
          "name": "stdout",
          "text": [
            "hello World\n"
          ]
        }
      ]
    }
  ]
}